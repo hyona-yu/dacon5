{
  "nbformat": 4,
  "nbformat_minor": 0,
  "metadata": {
    "colab": {
      "name": "새마음새뜻.ipynb",
      "provenance": [],
      "collapsed_sections": [],
      "authorship_tag": "ABX9TyNZtHGL3Ytyx3WPsgISx4KX",
      "include_colab_link": true
    },
    "kernelspec": {
      "name": "python3",
      "display_name": "Python 3"
    }
  },
  "cells": [
    {
      "cell_type": "markdown",
      "metadata": {
        "id": "view-in-github",
        "colab_type": "text"
      },
      "source": [
        "<a href=\"https://colab.research.google.com/github/hyona-yu/dacon5/blob/master/%EC%83%88%EB%A7%88%EC%9D%8C%EC%83%88%EB%9C%BB.ipynb\" target=\"_parent\"><img src=\"https://colab.research.google.com/assets/colab-badge.svg\" alt=\"Open In Colab\"/></a>"
      ]
    },
    {
      "cell_type": "code",
      "metadata": {
        "id": "Txomnf5zbnW4",
        "colab_type": "code",
        "colab": {}
      },
      "source": [
        "import numpy as np\n",
        "import os\n",
        "import pandas as pd\n",
        "import matplotlib.pyplot as plt\n",
        "import seaborn as sns\n",
        "import lightgbm as lgb"
      ],
      "execution_count": 0,
      "outputs": []
    },
    {
      "cell_type": "code",
      "metadata": {
        "id": "S5AVn_FmbxHI",
        "colab_type": "code",
        "colab": {}
      },
      "source": [
        "train_csv = pd.read_csv('./train.csv')\n",
        "test_csv = pd.read_csv('./test.csv')"
      ],
      "execution_count": 0,
      "outputs": []
    },
    {
      "cell_type": "code",
      "metadata": {
        "id": "SW-PStBOby1l",
        "colab_type": "code",
        "colab": {}
      },
      "source": [
        "columns = train_csv.columns\n",
        "label_columns = ['hhb','hbo2','ca','na']"
      ],
      "execution_count": 0,
      "outputs": []
    },
    {
      "cell_type": "code",
      "metadata": {
        "id": "UgSC3NA2b1tU",
        "colab_type": "code",
        "colab": {}
      },
      "source": [
        "train_csv = train_csv.interpolate(method = 'linear', axis = 1)\n",
        "test_csv = test_csv.interpolate(method=  'linear', axis =1)"
      ],
      "execution_count": 0,
      "outputs": []
    },
    {
      "cell_type": "code",
      "metadata": {
        "id": "Q59l3xns_W9x",
        "colab_type": "code",
        "colab": {}
      },
      "source": [
        "sns.set()\n",
        "for c in columns[1:]:\n",
        "    fig,ax = plt.subplots(1,1, figsize= (20,4))\n",
        "    sns.distplot(train_csv[c])"
      ],
      "execution_count": 0,
      "outputs": []
    },
    {
      "cell_type": "code",
      "metadata": {
        "id": "dpLk4ftjb4IV",
        "colab_type": "code",
        "colab": {}
      },
      "source": [
        "new_test_csv = test_csv.drop(columns= [\"id\"],axis = 1)\n",
        "new_train_csv = train_csv.drop(columns = label_columns, axis = 1).drop(columns = ['id'], axis = 1)"
      ],
      "execution_count": 0,
      "outputs": []
    },
    {
      "cell_type": "code",
      "metadata": {
        "id": "MucAf5vxb8lr",
        "colab_type": "code",
        "colab": {}
      },
      "source": [
        "from sklearn.preprocessing import StandardScaler, MinMaxScaler\n",
        "scaler=  StandardScaler()\n",
        "Mscaler = MinMaxScaler()\n",
        "new_train_csv[columns[37:72]] = Mscaler.fit_transform(new_train_csv[columns[37:72]])\n",
        "new_test_csv[columns[37:72]] = Mscaler.transform(new_test_csv[columns[37:72]])\n",
        "new_train_csv[columns[2:37]] = scaler.fit_transform(new_train_csv[columns[2:37]])\n",
        "new_test_csv[columns[2:37]] = scaler.transform(new_test_csv[columns[2:37]])\n",
        "# new_train_csv[columns[2:72]]=scaler.fit_transform(new_train_csv[columns[2:72]]) #이거 별차이는 없음\n",
        "# new_test_csv[columns[2:72]] =scaler.transform(new_test_csv[columns[2:72]])"
      ],
      "execution_count": 0,
      "outputs": []
    },
    {
      "cell_type": "code",
      "metadata": {
        "id": "e0LEDzaqgkJf",
        "colab_type": "code",
        "colab": {}
      },
      "source": [
        "# from sklearn.decomposition import PCA #별로\n",
        "# pca = PCA(n_components= 1)\n",
        "# new_train_csv[columns[37:72]] = pca.inverse_transform(pca.fit_transform(new_train_csv[columns[37:72]]))\n",
        "# new_test_csv[columns[37:72]] = pca.inverse_transform(pca.transform(new_test_csv[columns[37:72]]))"
      ],
      "execution_count": 0,
      "outputs": []
    },
    {
      "cell_type": "code",
      "metadata": {
        "id": "jsMYtb7Mb-Ne",
        "colab_type": "code",
        "colab": {}
      },
      "source": [
        "train_D = new_train_csv\n",
        "test_D = new_test_csv\n",
        "train_L = train_csv.loc[:,\"hhb\":\"na\"]"
      ],
      "execution_count": 0,
      "outputs": []
    },
    {
      "cell_type": "code",
      "metadata": {
        "id": "M_rVZK3iAJll",
        "colab_type": "code",
        "colab": {
          "base_uri": "https://localhost:8080/",
          "height": 175
        },
        "outputId": "d4318ebe-9aef-46de-87bd-7e52d12eff5b"
      },
      "source": [
        "train_D.rho.describe()"
      ],
      "execution_count": 154,
      "outputs": [
        {
          "output_type": "execute_result",
          "data": {
            "text/plain": [
              "count    10000.0\n",
              "mean         0.0\n",
              "std          0.0\n",
              "min          0.0\n",
              "25%          0.0\n",
              "50%          0.0\n",
              "75%          0.0\n",
              "max          0.0\n",
              "Name: rho, dtype: float64"
            ]
          },
          "metadata": {
            "tags": []
          },
          "execution_count": 154
        }
      ]
    },
    {
      "cell_type": "code",
      "metadata": {
        "id": "GnMqgNGUc6TF",
        "colab_type": "code",
        "colab": {
          "base_uri": "https://localhost:8080/",
          "height": 34
        },
        "outputId": "6580ec64-c665-40a8-cd19-6a2e22965c9c"
      },
      "source": [
        "type(train_D)"
      ],
      "execution_count": 128,
      "outputs": [
        {
          "output_type": "execute_result",
          "data": {
            "text/plain": [
              "pandas.core.frame.DataFrame"
            ]
          },
          "metadata": {
            "tags": []
          },
          "execution_count": 128
        }
      ]
    },
    {
      "cell_type": "markdown",
      "metadata": {
        "id": "Ej7UwC5IccRs",
        "colab_type": "text"
      },
      "source": [
        "#Train"
      ]
    },
    {
      "cell_type": "code",
      "metadata": {
        "id": "NhHTF05-cFMR",
        "colab_type": "code",
        "colab": {}
      },
      "source": [
        "# from sklearn.model_selection import KFold, StratifiedKFold\n",
        "# from sklearn.metrics import confusion_matrix\n",
        "# from sklearn.metrics import mean_absolute_error\n",
        "# import xgboost as xgb\n",
        "# import tqdm\n",
        "# from sklearn.ensemble import RandomForestRegressor\n",
        "# RF= RandomForestRegressor()\n",
        "# kfold = KFold(shuffle=True, random_state=42)\n",
        "# error = 0\n",
        "# result_pred = np.zeros((len(test_csv),4))\n",
        "# for train, test in (kfold.split(train_D, train_L)):\n",
        "#     kfold_D , kfold_L = train_D.iloc[train,:], train_L.iloc[train,:] #train_D[train,], train_L.iloc[train,:]#\n",
        "#     test_kfold_D, test_kfold_L = train_D.iloc[test,:], train_L.iloc[test,]#train_D[test], train_L.iloc[test,:]\n",
        "    \n",
        "#     RF.fit(kfold_D,  kfold_L)\n",
        "#     pred= RF.predict(test_kfold_D)\n",
        "\n",
        "#     error +=mean_absolute_error(pred, test_kfold_L)\n",
        "#     print(mean_absolute_error(pred, test_kfold_L))\n",
        "#     result_pred += RF.predict(test_D.iloc[:,:])/5\n",
        "# print(error/5)"
      ],
      "execution_count": 0,
      "outputs": []
    },
    {
      "cell_type": "markdown",
      "metadata": {
        "id": "c3pr6I2pjrGE",
        "colab_type": "text"
      },
      "source": [
        "#LGBM"
      ]
    },
    {
      "cell_type": "code",
      "metadata": {
        "id": "MzXjPcbRjZc2",
        "colab_type": "code",
        "colab": {}
      },
      "source": [
        "def train_model(x_data, y_data, k=5):\n",
        "    models = []\n",
        "    \n",
        "    k_fold = KFold(n_splits=k, shuffle=True, random_state=123)\n",
        "    \n",
        "    for train_idx, val_idx in k_fold.split(x_data):\n",
        "  \n",
        "        x_train, y_train = x_data.iloc[train_idx,:], y_data[train_idx]\n",
        "        x_val, y_val = x_data.iloc[val_idx,:], y_data[val_idx]\n",
        "\n",
        "        d_train = lgb.Dataset(data = np.array(x_train), label =(y_train))\n",
        " \n",
        "        d_val = lgb.Dataset(data = np.array(x_val), label = np.array(y_val))\n",
        "\n",
        "        wlist = {}\n",
        "       \n",
        "        params = {\n",
        "            'objective': 'regression',\n",
        "            'metric': 'mae',\n",
        "            'seed':777,\n",
        "            'feature_fraction':0.8,\n",
        "            'bagging_fraction': 0.8,\n",
        "            }\n",
        "\n",
        "        model = lgb.train(params=params,\n",
        "                          train_set=d_train,\n",
        "                          valid_sets = [d_train, d_val],\n",
        "                          valid_names = ['train', 'eval'],\n",
        "                          num_boost_round=500,\n",
        "                          verbose_eval=100,\n",
        "                          evals_result=wlist)\n",
        "        \n",
        "        models.append(model)\n",
        "    \n",
        "    return models"
      ],
      "execution_count": 0,
      "outputs": []
    },
    {
      "cell_type": "code",
      "metadata": {
        "id": "CA1idEfemlEa",
        "colab_type": "code",
        "colab": {}
      },
      "source": [
        "# models = {}\n",
        "# #이렇게 하는 거 의미없음..!\n",
        "# models['hhb'] = train_model(train_D[columns[35:72]], train_L['hhb'])\n",
        "# models['hbo2'] = train_model(train_D.drop(columns=columns[35:45],axis= 1), train_L['hbo2'])\n",
        "# models['ca'] = train_model(train_D[columns[35:72]], train_L['ca'])\n",
        "# models['na'] = train_model(train_D[columns[40:68]], train_L['na'])"
      ],
      "execution_count": 0,
      "outputs": []
    },
    {
      "cell_type": "code",
      "metadata": {
        "id": "BP4YyqvNjv8n",
        "colab_type": "code",
        "colab": {
          "base_uri": "https://localhost:8080/",
          "height": 1000
        },
        "outputId": "fba6c961-6532-41ba-e966-b4a9599fbfc3"
      },
      "source": [
        "models = {}\n",
        "for label in label_columns:\n",
        "    print('train column : ', label)\n",
        "    models[label] = train_model(train_D, train_L[label])\n",
        "    print('\\n\\n')"
      ],
      "execution_count": 144,
      "outputs": [
        {
          "output_type": "stream",
          "text": [
            "train column :  hhb\n",
            "[100]\ttrain's l1: 0.620281\teval's l1: 0.899414\n",
            "[200]\ttrain's l1: 0.446178\teval's l1: 0.856701\n",
            "[300]\ttrain's l1: 0.340455\teval's l1: 0.83917\n",
            "[400]\ttrain's l1: 0.26484\teval's l1: 0.827728\n",
            "[500]\ttrain's l1: 0.207118\teval's l1: 0.824058\n",
            "[100]\ttrain's l1: 0.632114\teval's l1: 0.863119\n",
            "[200]\ttrain's l1: 0.454729\teval's l1: 0.830328\n",
            "[300]\ttrain's l1: 0.344046\teval's l1: 0.817413\n",
            "[400]\ttrain's l1: 0.265109\teval's l1: 0.809658\n",
            "[500]\ttrain's l1: 0.207531\teval's l1: 0.805839\n",
            "[100]\ttrain's l1: 0.629106\teval's l1: 0.875946\n",
            "[200]\ttrain's l1: 0.452057\teval's l1: 0.831416\n",
            "[300]\ttrain's l1: 0.343431\teval's l1: 0.809658\n",
            "[400]\ttrain's l1: 0.266494\teval's l1: 0.799665\n",
            "[500]\ttrain's l1: 0.211292\teval's l1: 0.795363\n",
            "[100]\ttrain's l1: 0.62644\teval's l1: 0.885909\n",
            "[200]\ttrain's l1: 0.45369\teval's l1: 0.852092\n",
            "[300]\ttrain's l1: 0.340519\teval's l1: 0.832281\n",
            "[400]\ttrain's l1: 0.261789\teval's l1: 0.822826\n",
            "[500]\ttrain's l1: 0.205538\teval's l1: 0.817903\n",
            "[100]\ttrain's l1: 0.626918\teval's l1: 0.890706\n",
            "[200]\ttrain's l1: 0.447017\teval's l1: 0.851351\n",
            "[300]\ttrain's l1: 0.340307\teval's l1: 0.836404\n",
            "[400]\ttrain's l1: 0.264669\teval's l1: 0.827825\n",
            "[500]\ttrain's l1: 0.207295\teval's l1: 0.821901\n",
            "\n",
            "\n",
            "\n",
            "train column :  hbo2\n",
            "[100]\ttrain's l1: 0.480495\teval's l1: 0.648005\n",
            "[200]\ttrain's l1: 0.360324\teval's l1: 0.632075\n",
            "[300]\ttrain's l1: 0.27695\teval's l1: 0.626056\n",
            "[400]\ttrain's l1: 0.217532\teval's l1: 0.622871\n",
            "[500]\ttrain's l1: 0.172329\teval's l1: 0.620272\n",
            "[100]\ttrain's l1: 0.480796\teval's l1: 0.626926\n",
            "[200]\ttrain's l1: 0.358261\teval's l1: 0.616206\n",
            "[300]\ttrain's l1: 0.275624\teval's l1: 0.612195\n",
            "[400]\ttrain's l1: 0.216683\teval's l1: 0.608256\n",
            "[500]\ttrain's l1: 0.171472\teval's l1: 0.606667\n",
            "[100]\ttrain's l1: 0.481557\teval's l1: 0.661355\n",
            "[200]\ttrain's l1: 0.357581\teval's l1: 0.640702\n",
            "[300]\ttrain's l1: 0.277294\teval's l1: 0.635051\n",
            "[400]\ttrain's l1: 0.217274\teval's l1: 0.633317\n",
            "[500]\ttrain's l1: 0.172482\teval's l1: 0.631638\n",
            "[100]\ttrain's l1: 0.478333\teval's l1: 0.647216\n",
            "[200]\ttrain's l1: 0.355172\teval's l1: 0.631335\n",
            "[300]\ttrain's l1: 0.273015\teval's l1: 0.623925\n",
            "[400]\ttrain's l1: 0.214189\teval's l1: 0.617641\n",
            "[500]\ttrain's l1: 0.16885\teval's l1: 0.615779\n",
            "[100]\ttrain's l1: 0.479772\teval's l1: 0.667983\n",
            "[200]\ttrain's l1: 0.357754\teval's l1: 0.651835\n",
            "[300]\ttrain's l1: 0.274595\teval's l1: 0.648444\n",
            "[400]\ttrain's l1: 0.21494\teval's l1: 0.643537\n",
            "[500]\ttrain's l1: 0.169769\teval's l1: 0.639679\n",
            "\n",
            "\n",
            "\n",
            "train column :  ca\n",
            "[100]\ttrain's l1: 1.46113\teval's l1: 1.96546\n",
            "[200]\ttrain's l1: 1.11346\teval's l1: 1.93174\n",
            "[300]\ttrain's l1: 0.865683\teval's l1: 1.92522\n",
            "[400]\ttrain's l1: 0.684051\teval's l1: 1.92408\n",
            "[500]\ttrain's l1: 0.543674\teval's l1: 1.92638\n",
            "[100]\ttrain's l1: 1.44873\teval's l1: 1.98324\n",
            "[200]\ttrain's l1: 1.10285\teval's l1: 1.96709\n",
            "[300]\ttrain's l1: 0.859727\teval's l1: 1.96487\n",
            "[400]\ttrain's l1: 0.678351\teval's l1: 1.96286\n",
            "[500]\ttrain's l1: 0.538382\teval's l1: 1.96923\n",
            "[100]\ttrain's l1: 1.45684\teval's l1: 1.98209\n",
            "[200]\ttrain's l1: 1.10645\teval's l1: 1.9516\n",
            "[300]\ttrain's l1: 0.862821\teval's l1: 1.94668\n",
            "[400]\ttrain's l1: 0.680392\teval's l1: 1.95108\n",
            "[500]\ttrain's l1: 0.544189\teval's l1: 1.95283\n",
            "[100]\ttrain's l1: 1.47435\teval's l1: 1.93794\n",
            "[200]\ttrain's l1: 1.12384\teval's l1: 1.90676\n",
            "[300]\ttrain's l1: 0.872677\teval's l1: 1.90655\n",
            "[400]\ttrain's l1: 0.68865\teval's l1: 1.90549\n",
            "[500]\ttrain's l1: 0.546194\teval's l1: 1.90493\n",
            "[100]\ttrain's l1: 1.46708\teval's l1: 1.98976\n",
            "[200]\ttrain's l1: 1.12486\teval's l1: 1.9755\n",
            "[300]\ttrain's l1: 0.875529\teval's l1: 1.97018\n",
            "[400]\ttrain's l1: 0.696657\teval's l1: 1.97266\n",
            "[500]\ttrain's l1: 0.555372\teval's l1: 1.96633\n",
            "\n",
            "\n",
            "\n",
            "train column :  na\n",
            "[100]\ttrain's l1: 0.944401\teval's l1: 1.28807\n",
            "[200]\ttrain's l1: 0.712924\teval's l1: 1.26619\n",
            "[300]\ttrain's l1: 0.551721\teval's l1: 1.26042\n",
            "[400]\ttrain's l1: 0.43313\teval's l1: 1.25688\n",
            "[500]\ttrain's l1: 0.343219\teval's l1: 1.25379\n",
            "[100]\ttrain's l1: 0.944523\teval's l1: 1.29114\n",
            "[200]\ttrain's l1: 0.710391\teval's l1: 1.27522\n",
            "[300]\ttrain's l1: 0.550031\teval's l1: 1.27181\n",
            "[400]\ttrain's l1: 0.429068\teval's l1: 1.27133\n",
            "[500]\ttrain's l1: 0.341859\teval's l1: 1.26758\n",
            "[100]\ttrain's l1: 0.948697\teval's l1: 1.29009\n",
            "[200]\ttrain's l1: 0.712517\teval's l1: 1.27592\n",
            "[300]\ttrain's l1: 0.550319\teval's l1: 1.27007\n",
            "[400]\ttrain's l1: 0.432284\teval's l1: 1.27625\n",
            "[500]\ttrain's l1: 0.343373\teval's l1: 1.27689\n",
            "[100]\ttrain's l1: 0.948645\teval's l1: 1.30496\n",
            "[200]\ttrain's l1: 0.715833\teval's l1: 1.28308\n",
            "[300]\ttrain's l1: 0.557339\teval's l1: 1.28225\n",
            "[400]\ttrain's l1: 0.440174\teval's l1: 1.28116\n",
            "[500]\ttrain's l1: 0.347901\teval's l1: 1.2804\n",
            "[100]\ttrain's l1: 0.944539\teval's l1: 1.28877\n",
            "[200]\ttrain's l1: 0.712585\teval's l1: 1.26666\n",
            "[300]\ttrain's l1: 0.55403\teval's l1: 1.26434\n",
            "[400]\ttrain's l1: 0.434099\teval's l1: 1.26199\n",
            "[500]\ttrain's l1: 0.341247\teval's l1: 1.26004\n",
            "\n",
            "\n",
            "\n"
          ],
          "name": "stdout"
        }
      ]
    },
    {
      "cell_type": "code",
      "metadata": {
        "id": "SH6KCYCql86C",
        "colab_type": "code",
        "colab": {}
      },
      "source": [
        "sample = pd.read_csv('sample_submission.csv')\n",
        "for col in models:\n",
        "    preds = []\n",
        "    for model in models[col]:\n",
        "        preds.append(model.predict(test_D))\n",
        "    pred = np.mean(preds, axis=0)\n",
        "\n",
        "    sample[col] = pred"
      ],
      "execution_count": 0,
      "outputs": []
    },
    {
      "cell_type": "code",
      "metadata": {
        "id": "TYrWklQemNtI",
        "colab_type": "code",
        "colab": {}
      },
      "source": [
        "sample.to_csv('lgb_includerho_scaler_srcdst_all.csv', index = False)"
      ],
      "execution_count": 0,
      "outputs": []
    },
    {
      "cell_type": "code",
      "metadata": {
        "id": "rqvbOUNkmSq8",
        "colab_type": "code",
        "colab": {
          "base_uri": "https://localhost:8080/",
          "height": 402
        },
        "outputId": "9640d486-05eb-4dc4-853f-75a673abce79"
      },
      "source": [
        "pd.read_csv('lgb_includerho_scaler_srcdst_all.csv')"
      ],
      "execution_count": 147,
      "outputs": [
        {
          "output_type": "execute_result",
          "data": {
            "text/html": [
              "<div>\n",
              "<style scoped>\n",
              "    .dataframe tbody tr th:only-of-type {\n",
              "        vertical-align: middle;\n",
              "    }\n",
              "\n",
              "    .dataframe tbody tr th {\n",
              "        vertical-align: top;\n",
              "    }\n",
              "\n",
              "    .dataframe thead th {\n",
              "        text-align: right;\n",
              "    }\n",
              "</style>\n",
              "<table border=\"1\" class=\"dataframe\">\n",
              "  <thead>\n",
              "    <tr style=\"text-align: right;\">\n",
              "      <th></th>\n",
              "      <th>id</th>\n",
              "      <th>hhb</th>\n",
              "      <th>hbo2</th>\n",
              "      <th>ca</th>\n",
              "      <th>na</th>\n",
              "    </tr>\n",
              "  </thead>\n",
              "  <tbody>\n",
              "    <tr>\n",
              "      <th>0</th>\n",
              "      <td>10000</td>\n",
              "      <td>8.740354</td>\n",
              "      <td>4.468437</td>\n",
              "      <td>9.541955</td>\n",
              "      <td>3.755097</td>\n",
              "    </tr>\n",
              "    <tr>\n",
              "      <th>1</th>\n",
              "      <td>10001</td>\n",
              "      <td>6.264494</td>\n",
              "      <td>3.520176</td>\n",
              "      <td>8.437601</td>\n",
              "      <td>2.952617</td>\n",
              "    </tr>\n",
              "    <tr>\n",
              "      <th>2</th>\n",
              "      <td>10002</td>\n",
              "      <td>9.748657</td>\n",
              "      <td>5.093946</td>\n",
              "      <td>9.972243</td>\n",
              "      <td>3.865701</td>\n",
              "    </tr>\n",
              "    <tr>\n",
              "      <th>3</th>\n",
              "      <td>10003</td>\n",
              "      <td>8.435655</td>\n",
              "      <td>4.172849</td>\n",
              "      <td>10.275598</td>\n",
              "      <td>3.596091</td>\n",
              "    </tr>\n",
              "    <tr>\n",
              "      <th>4</th>\n",
              "      <td>10004</td>\n",
              "      <td>6.883609</td>\n",
              "      <td>3.451677</td>\n",
              "      <td>8.257700</td>\n",
              "      <td>4.257829</td>\n",
              "    </tr>\n",
              "    <tr>\n",
              "      <th>...</th>\n",
              "      <td>...</td>\n",
              "      <td>...</td>\n",
              "      <td>...</td>\n",
              "      <td>...</td>\n",
              "      <td>...</td>\n",
              "    </tr>\n",
              "    <tr>\n",
              "      <th>9995</th>\n",
              "      <td>19995</td>\n",
              "      <td>4.801310</td>\n",
              "      <td>3.927899</td>\n",
              "      <td>12.143051</td>\n",
              "      <td>3.343776</td>\n",
              "    </tr>\n",
              "    <tr>\n",
              "      <th>9996</th>\n",
              "      <td>19996</td>\n",
              "      <td>10.490508</td>\n",
              "      <td>3.265147</td>\n",
              "      <td>7.537821</td>\n",
              "      <td>2.035313</td>\n",
              "    </tr>\n",
              "    <tr>\n",
              "      <th>9997</th>\n",
              "      <td>19997</td>\n",
              "      <td>7.491157</td>\n",
              "      <td>3.780172</td>\n",
              "      <td>8.397145</td>\n",
              "      <td>4.202973</td>\n",
              "    </tr>\n",
              "    <tr>\n",
              "      <th>9998</th>\n",
              "      <td>19998</td>\n",
              "      <td>12.479392</td>\n",
              "      <td>4.464999</td>\n",
              "      <td>9.365007</td>\n",
              "      <td>3.477778</td>\n",
              "    </tr>\n",
              "    <tr>\n",
              "      <th>9999</th>\n",
              "      <td>19999</td>\n",
              "      <td>5.009877</td>\n",
              "      <td>4.567232</td>\n",
              "      <td>10.735966</td>\n",
              "      <td>2.431986</td>\n",
              "    </tr>\n",
              "  </tbody>\n",
              "</table>\n",
              "<p>10000 rows × 5 columns</p>\n",
              "</div>"
            ],
            "text/plain": [
              "         id        hhb      hbo2         ca        na\n",
              "0     10000   8.740354  4.468437   9.541955  3.755097\n",
              "1     10001   6.264494  3.520176   8.437601  2.952617\n",
              "2     10002   9.748657  5.093946   9.972243  3.865701\n",
              "3     10003   8.435655  4.172849  10.275598  3.596091\n",
              "4     10004   6.883609  3.451677   8.257700  4.257829\n",
              "...     ...        ...       ...        ...       ...\n",
              "9995  19995   4.801310  3.927899  12.143051  3.343776\n",
              "9996  19996  10.490508  3.265147   7.537821  2.035313\n",
              "9997  19997   7.491157  3.780172   8.397145  4.202973\n",
              "9998  19998  12.479392  4.464999   9.365007  3.477778\n",
              "9999  19999   5.009877  4.567232  10.735966  2.431986\n",
              "\n",
              "[10000 rows x 5 columns]"
            ]
          },
          "metadata": {
            "tags": []
          },
          "execution_count": 147
        }
      ]
    }
  ]
}